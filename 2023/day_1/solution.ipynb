{
 "cells": [
  {
   "cell_type": "markdown",
   "metadata": {},
   "source": [
    "## Part 1"
   ]
  },
  {
   "cell_type": "code",
   "execution_count": 29,
   "metadata": {},
   "outputs": [],
   "source": [
    "with open(\"input.txt\") as f:\n",
    "    lines = f.readlines()"
   ]
  },
  {
   "cell_type": "code",
   "execution_count": 2,
   "metadata": {},
   "outputs": [],
   "source": [
    "digits = {\"1\", \"2\", \"3\", \"4\", \"5\", \"6\", \"7\", \"8\", \"9\", \"0\"}"
   ]
  },
  {
   "cell_type": "code",
   "execution_count": 3,
   "metadata": {},
   "outputs": [
    {
     "name": "stdout",
     "output_type": "stream",
     "text": [
      "54632\n"
     ]
    }
   ],
   "source": [
    "# Naive looping\n",
    "cal1 = []\n",
    "for l in lines:\n",
    "    for char in l:\n",
    "        if char in digits:\n",
    "            first_digit = char\n",
    "            break\n",
    "    for char in reversed(l):\n",
    "        if char in digits:\n",
    "            second_digit = char\n",
    "            break \n",
    "    first_digit = next((char for char in l if char in digits), None)\n",
    "    second_digit = next((char for char in reversed(l) if char in digits), None)\n",
    "    cal1.append(int(first_digit + second_digit))\n",
    "print(sum(cal1))"
   ]
  },
  {
   "cell_type": "code",
   "execution_count": 4,
   "metadata": {},
   "outputs": [
    {
     "name": "stdout",
     "output_type": "stream",
     "text": [
      "54632\n"
     ]
    }
   ],
   "source": [
    "# Generators\n",
    "cal2 = []\n",
    "for l in lines:\n",
    "    first_digit = next((char for char in l if char in digits), None)\n",
    "    second_digit = next((char for char in reversed(l) if char in digits), None)\n",
    "    cal2.append(int(first_digit + second_digit))\n",
    "print(sum(cal2))"
   ]
  },
  {
   "cell_type": "code",
   "execution_count": 5,
   "metadata": {},
   "outputs": [
    {
     "name": "stdout",
     "output_type": "stream",
     "text": [
      "54632\n"
     ]
    }
   ],
   "source": [
    "# Regex\n",
    "import re\n",
    "cal = [int(digits[0] + digits[-1]) for digits in (re.findall(r'\\d', line) for line in lines)]\n",
    "print(sum(cal))"
   ]
  },
  {
   "cell_type": "markdown",
   "metadata": {},
   "source": [
    "## Part 2"
   ]
  },
  {
   "cell_type": "code",
   "execution_count": 59,
   "metadata": {},
   "outputs": [],
   "source": [
    "with open(\"input.txt\") as f:\n",
    "    lines = f.readlines()"
   ]
  },
  {
   "cell_type": "code",
   "execution_count": 83,
   "metadata": {},
   "outputs": [],
   "source": [
    "words = [\"one\", \"two\", \"three\", \"four\", \"five\", \"six\", \"seven\", \"eight\", \"nine\"]\n",
    "pattern = re.compile(rf'(?=({\"|\".join(words)}))') # uses positive lookahead to find all words in the list; we put the words in a group so that we can access them later via match.group(1)\n",
    "mapping = dict(zip(words, [str(i) for i in range(1, 10)]))"
   ]
  },
  {
   "cell_type": "code",
   "execution_count": 84,
   "metadata": {},
   "outputs": [
    {
     "name": "stdout",
     "output_type": "stream",
     "text": [
      "54019\n"
     ]
    }
   ],
   "source": [
    "def replace(match):\n",
    "    return mapping[match.group(1)]\n",
    "\n",
    "def translate(line):\n",
    "    return re.sub(pattern, replace, line)\n",
    "\n",
    "cal = [int(digits[0] + digits[-1]) for digits in (re.findall(r'\\d', translate(line)) for line in lines)]\n",
    "print(sum(cal))"
   ]
  }
 ],
 "metadata": {
  "kernelspec": {
   "display_name": "venv",
   "language": "python",
   "name": "python3"
  },
  "language_info": {
   "codemirror_mode": {
    "name": "ipython",
    "version": 3
   },
   "file_extension": ".py",
   "mimetype": "text/x-python",
   "name": "python",
   "nbconvert_exporter": "python",
   "pygments_lexer": "ipython3",
   "version": "3.10.12"
  }
 },
 "nbformat": 4,
 "nbformat_minor": 2
}
