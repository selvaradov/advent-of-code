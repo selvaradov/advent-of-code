{
 "cells": [
  {
   "cell_type": "markdown",
   "metadata": {},
   "source": [
    "## Part 1"
   ]
  },
  {
   "cell_type": "code",
   "execution_count": 58,
   "metadata": {},
   "outputs": [],
   "source": [
    "with open('input.txt') as f:\n",
    "    space = f.read().splitlines()"
   ]
  },
  {
   "cell_type": "code",
   "execution_count": 59,
   "metadata": {},
   "outputs": [],
   "source": [
    "def expand_space(space: list[str]):\n",
    "    width = len(space[0])\n",
    "    assert all(len(row) == width for row in space) # must be rectangular\n",
    "    assert all(all(x in '.#' for x in row) for row in space) # must be only . and #\n",
    "    out = []\n",
    "    empty_rows = [i for i in range(len(space)) if all(x == '.' for x in space[i])]\n",
    "    empty_cols = [i for i in range(len(space[0])) if all(x == '.' for x in [row[i] for row in space])]\n",
    "    for i in range(len(space)):\n",
    "        if i in empty_rows:\n",
    "            out.append('.' * (width + len(empty_cols)))\n",
    "        row = ''\n",
    "        for j in range(width):\n",
    "            if j in empty_cols:\n",
    "                row += '.'\n",
    "            row += space[i][j]\n",
    "        out.append(row)\n",
    "    return out"
   ]
  },
  {
   "cell_type": "code",
   "execution_count": 60,
   "metadata": {},
   "outputs": [],
   "source": [
    "import re\n",
    "\n",
    "def get_galaxies(expanded_space: list[str]):\n",
    "    return [(i, m.start()) for i, line in enumerate(expanded_space) for m in re.finditer(r'#', line)]"
   ]
  },
  {
   "cell_type": "code",
   "execution_count": 61,
   "metadata": {},
   "outputs": [],
   "source": [
    "def shortest_path(a: tuple[int, int], b: tuple[int, int]):\n",
    "    return abs(a[0] - b[0]) + abs(a[1] - b[1])"
   ]
  },
  {
   "cell_type": "code",
   "execution_count": 62,
   "metadata": {},
   "outputs": [],
   "source": [
    "def get_distances(galaxies: list[tuple[int, int]]):\n",
    "    return {(a, b): shortest_path(a, b) for a in galaxies for b in galaxies}"
   ]
  },
  {
   "cell_type": "code",
   "execution_count": 63,
   "metadata": {},
   "outputs": [
    {
     "data": {
      "text/plain": [
       "9370588.0"
      ]
     },
     "execution_count": 63,
     "metadata": {},
     "output_type": "execute_result"
    }
   ],
   "source": [
    "sum(get_distances(get_galaxies(expand_space(space))).values()) / 2 # divide by 2 because we double-counted"
   ]
  },
  {
   "cell_type": "markdown",
   "metadata": {},
   "source": [
    "## Part 2"
   ]
  },
  {
   "cell_type": "code",
   "execution_count": 64,
   "metadata": {},
   "outputs": [],
   "source": [
    "empty_rows = [i for i in range(len(space)) if all(x == '.' for x in space[i])]\n",
    "empty_cols = [i for i in range(len(space[0])) if all(x == '.' for x in [row[i] for row in space])]"
   ]
  },
  {
   "cell_type": "code",
   "execution_count": 65,
   "metadata": {},
   "outputs": [],
   "source": [
    "def get_expanded_distance(a: tuple[int, int], b: tuple[int, int], empty_rows: list[int], empty_cols: list[int]):\n",
    "    basic_distance = shortest_path(a, b)\n",
    "    expanded_regions = 0\n",
    "    for i in empty_rows:\n",
    "        if a[0] < i < b[0] or b[0] < i < a[0]:\n",
    "            expanded_regions += 1\n",
    "    for i in empty_cols:\n",
    "        if a[1] < i < b[1] or b[1] < i < a[1]:\n",
    "            expanded_regions += 1\n",
    "    return basic_distance + (expanded_regions * 999999)"
   ]
  },
  {
   "cell_type": "code",
   "execution_count": 66,
   "metadata": {},
   "outputs": [
    {
     "data": {
      "text/plain": [
       "746207878188"
      ]
     },
     "execution_count": 66,
     "metadata": {},
     "output_type": "execute_result"
    }
   ],
   "source": [
    "from itertools import combinations\n",
    "shortest_paths = [get_expanded_distance(a, b, empty_rows, empty_cols) for a, b in combinations(get_galaxies(space), 2)]\n",
    "sum(shortest_paths)"
   ]
  }
 ],
 "metadata": {
  "kernelspec": {
   "display_name": "venv",
   "language": "python",
   "name": "python3"
  },
  "language_info": {
   "codemirror_mode": {
    "name": "ipython",
    "version": 3
   },
   "file_extension": ".py",
   "mimetype": "text/x-python",
   "name": "python",
   "nbconvert_exporter": "python",
   "pygments_lexer": "ipython3",
   "version": "3.10.12"
  }
 },
 "nbformat": 4,
 "nbformat_minor": 2
}
