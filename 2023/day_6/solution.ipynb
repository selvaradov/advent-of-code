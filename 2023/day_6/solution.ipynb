{
 "cells": [
  {
   "cell_type": "markdown",
   "metadata": {},
   "source": [
    "## Part 1"
   ]
  },
  {
   "cell_type": "code",
   "execution_count": 34,
   "metadata": {},
   "outputs": [],
   "source": [
    "with open('input.txt') as f:\n",
    "    table = f.read()"
   ]
  },
  {
   "cell_type": "code",
   "execution_count": 35,
   "metadata": {},
   "outputs": [],
   "source": [
    "lines = table.split('\\n')\n",
    "time_values = list(map(int, lines[0].split()[1:]))\n",
    "distance_values = list(map(int, lines[1].split()[1:]))\n",
    "pairs = list(zip(time_values, distance_values))"
   ]
  },
  {
   "cell_type": "code",
   "execution_count": 36,
   "metadata": {},
   "outputs": [
    {
     "name": "stdout",
     "output_type": "stream",
     "text": [
      "2612736\n"
     ]
    }
   ],
   "source": [
    "ways = []\n",
    "for time, dist in pairs:\n",
    "    num = 0\n",
    "    for t_h in range(time):\n",
    "        if (time - t_h)*t_h > dist:\n",
    "            num += 1\n",
    "    ways.append(num)\n",
    "\n",
    "from math import prod\n",
    "print(prod(ways))"
   ]
  },
  {
   "cell_type": "markdown",
   "metadata": {},
   "source": [
    "## Part 2"
   ]
  },
  {
   "cell_type": "code",
   "execution_count": 37,
   "metadata": {},
   "outputs": [],
   "source": [
    "time = int(''.join([str(x) for x in time_values])) \n",
    "dist = int(''.join([str(x) for x in distance_values])) "
   ]
  },
  {
   "cell_type": "code",
   "execution_count": 39,
   "metadata": {},
   "outputs": [
    {
     "data": {
      "text/plain": [
       "(45977295, 305106211101695)"
      ]
     },
     "execution_count": 39,
     "metadata": {},
     "output_type": "execute_result"
    }
   ],
   "source": [
    "time, dist"
   ]
  },
  {
   "cell_type": "code",
   "execution_count": 38,
   "metadata": {},
   "outputs": [
    {
     "name": "stdout",
     "output_type": "stream",
     "text": [
      "29891250\n"
     ]
    }
   ],
   "source": [
    "num = 0\n",
    "for t_h in range(time):\n",
    "    if (time - t_h)*t_h > dist:\n",
    "        num += 1\n",
    "print(num)"
   ]
  }
 ],
 "metadata": {
  "kernelspec": {
   "display_name": "venv",
   "language": "python",
   "name": "python3"
  },
  "language_info": {
   "codemirror_mode": {
    "name": "ipython",
    "version": 3
   },
   "file_extension": ".py",
   "mimetype": "text/x-python",
   "name": "python",
   "nbconvert_exporter": "python",
   "pygments_lexer": "ipython3",
   "version": "3.10.12"
  }
 },
 "nbformat": 4,
 "nbformat_minor": 2
}
