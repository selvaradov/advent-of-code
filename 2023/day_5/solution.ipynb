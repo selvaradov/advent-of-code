{
 "cells": [
  {
   "cell_type": "markdown",
   "metadata": {},
   "source": [
    "## Part 1"
   ]
  },
  {
   "cell_type": "code",
   "execution_count": 2,
   "metadata": {},
   "outputs": [],
   "source": [
    "def use_map(ranges: list[list[int]], source: int):\n",
    "    for dest_start, source_start, length in ranges:\n",
    "         if source_start <= source < source_start + length:\n",
    "              return dest_start + (source - source_start)\n",
    "    return source"
   ]
  },
  {
   "cell_type": "code",
   "execution_count": 3,
   "metadata": {},
   "outputs": [],
   "source": [
    "def parse_map(text: str):\n",
    "    return [[int(x) for x in s.split()] for s in text.split('\\n')[1:]]"
   ]
  },
  {
   "cell_type": "code",
   "execution_count": 4,
   "metadata": {},
   "outputs": [],
   "source": [
    "def parse_almanac(almanac: str):\n",
    "    sections = almanac.split('\\n\\n')\n",
    "    seeds = [int(x) for x in sections[0].split(':')[1].split()]\n",
    "    ranges = [parse_map(t) for t in sections[1:]]\n",
    "    return seeds, ranges"
   ]
  },
  {
   "cell_type": "code",
   "execution_count": 5,
   "metadata": {},
   "outputs": [],
   "source": [
    "with open('input.txt') as f:\n",
    "    almanac = f.read()"
   ]
  },
  {
   "cell_type": "code",
   "execution_count": 6,
   "metadata": {},
   "outputs": [],
   "source": [
    "seeds, all_ranges = parse_almanac(almanac)\n"
   ]
  },
  {
   "cell_type": "code",
   "execution_count": 7,
   "metadata": {},
   "outputs": [
    {
     "name": "stdout",
     "output_type": "stream",
     "text": [
      "278755257\n"
     ]
    }
   ],
   "source": [
    "locations = []\n",
    "for seed in seeds:\n",
    "    source = seed\n",
    "    for ranges in all_ranges:\n",
    "        dest = use_map(ranges, source)\n",
    "        source = dest\n",
    "    locations.append(dest)\n",
    "print(min(locations))"
   ]
  },
  {
   "cell_type": "markdown",
   "metadata": {},
   "source": [
    "## Part 2"
   ]
  },
  {
   "cell_type": "code",
   "execution_count": 8,
   "metadata": {},
   "outputs": [],
   "source": [
    "import re\n",
    "def parse_almanac_2(almanac: str):\n",
    "    sections = almanac.split('\\n\\n')\n",
    "    pattern = re.compile(r'\\d+ \\d+')\n",
    "    seed_pairs = [(int(x), int(y)) for (x, y) in [pair.split() for pair in re.findall(pattern, sections[0])]]\n",
    "    mapping_sets = [parse_map(t) for t in sections[1:]]\n",
    "    return seed_pairs, mapping_sets"
   ]
  },
  {
   "cell_type": "code",
   "execution_count": 9,
   "metadata": {},
   "outputs": [],
   "source": [
    "seed_pairs, mapping_sets = parse_almanac_2(almanac)"
   ]
  },
  {
   "cell_type": "markdown",
   "metadata": {},
   "source": [
    "You should reverse it. Convert a location into a seed. And when a location matches an existing seed, you've got the lowest possible location as your iterator.\n",
    "\n",
    "Also: instead of making a list with all seeds, make a function that uses comparison operators to check if a seed is in the list"
   ]
  },
  {
   "cell_type": "markdown",
   "metadata": {},
   "source": [
    "Taking the first seeds as lists with the first and the last seed of the range. Obviously these ranges will have to be eventually divided into more ranges. And at the end your solution will be the smallest number in the final ranges"
   ]
  },
  {
   "cell_type": "markdown",
   "metadata": {},
   "source": [
    "- https://mathematico.netlify.app/blog/aoc-23-5\n",
    "- https://github.com/PetchyAL/AoC2023/blob/main/solutions/day05/day5.py \n",
    "- https://github.com/xHyroM/aoc/tree/main/2023/05 \n",
    "- https://github.com/RomainPierre7/Advent-of-Code/tree/main/2023/day05 "
   ]
  },
  {
   "cell_type": "code",
   "execution_count": 14,
   "metadata": {},
   "outputs": [],
   "source": [
    "class Domain():\n",
    "    def __init__(self, start: float, end: float):\n",
    "        try:\n",
    "            assert start < end\n",
    "        except AssertionError:\n",
    "            print(start, end)\n",
    "            raise\n",
    "        self.start = start\n",
    "        self.end = end\n",
    "    def __repr__(self):\n",
    "        return f'domain(start: {self.start}, len: {self.end})'\n",
    "    \n",
    "class Mapping():\n",
    "    def __init__(self, start: float, end: float, shift: float=0):\n",
    "        try:\n",
    "            assert start < end\n",
    "        except AssertionError:\n",
    "            print(start, end)\n",
    "            raise\n",
    "        self.start = start\n",
    "        self.end = end\n",
    "        self.shift = shift\n",
    "    def __repr__(self):\n",
    "        return f'mapping(src: {self.start}, end: {self.end}, shift: {self.shift})'"
   ]
  },
  {
   "cell_type": "code",
   "execution_count": 11,
   "metadata": {},
   "outputs": [],
   "source": [
    "def get_identities(mappings: list[Mapping]):\n",
    "    sorted_mappings = sorted(mappings, key=lambda x: x.start)\n",
    "    lower = Mapping(float('-inf'), sorted_mappings[0].start - 1)\n",
    "    upper = Mapping(sorted_mappings[-1].end, float('inf')) ## maybe should be from sorted_mappings[-1].end + 1\n",
    "\n",
    "    identity_mappings = [lower, upper]\n",
    "\n",
    "    for i in range(len(sorted_mappings) - 1):\n",
    "        lower_end, upper_start = sorted_mappings[i].end, sorted_mappings[i + 1].start\n",
    "        if lower_end < upper_start:\n",
    "            identity_mappings.append(Mapping(lower_end, upper_start))\n",
    "    \n",
    "    return identity_mappings"
   ]
  },
  {
   "cell_type": "code",
   "execution_count": 16,
   "metadata": {},
   "outputs": [],
   "source": [
    "def prop_one_level(domains: list[Domain], filled_mappings: list[Mapping]):\n",
    "    ranges: list[Domain] = []\n",
    "    for domain in domains:\n",
    "        for mapping in filled_mappings:\n",
    "            if not (mapping.start >= domain.end or mapping.end <= domain.start): # think of domains and mappings as being intervals of the format [start, end)\n",
    "                slice_start = max(domain.start, mapping.start) \n",
    "                slice_end = min(domain.end, mapping.end)\n",
    "                ranges.append(Domain(slice_start + mapping.shift, slice_end + mapping.shift))\n",
    "    return ranges"
   ]
  },
  {
   "cell_type": "code",
   "execution_count": 19,
   "metadata": {},
   "outputs": [
    {
     "name": "stdout",
     "output_type": "stream",
     "text": [
      "26829166\n"
     ]
    }
   ],
   "source": [
    "domains = [Domain(seed[0], seed[0] + seed[1]) for seed in seed_pairs]\n",
    "for mapping_set in mapping_sets:\n",
    "    mappings = [Mapping(mapping[1], mapping[1] + mapping[2], mapping[0] - mapping[1]) for mapping in mapping_set]\n",
    "    identity_mappings = get_identities(mappings)\n",
    "    filled_mappings = mappings + identity_mappings\n",
    "    ranges = prop_one_level(domains, filled_mappings)\n",
    "    domains = ranges\n",
    "print(min([domain.start for domain in domains]))"
   ]
  }
 ],
 "metadata": {
  "kernelspec": {
   "display_name": "venv",
   "language": "python",
   "name": "python3"
  },
  "language_info": {
   "codemirror_mode": {
    "name": "ipython",
    "version": 3
   },
   "file_extension": ".py",
   "mimetype": "text/x-python",
   "name": "python",
   "nbconvert_exporter": "python",
   "pygments_lexer": "ipython3",
   "version": "3.10.12"
  }
 },
 "nbformat": 4,
 "nbformat_minor": 2
}
