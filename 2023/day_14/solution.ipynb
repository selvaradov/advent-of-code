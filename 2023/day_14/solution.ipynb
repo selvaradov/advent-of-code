{
 "cells": [
  {
   "cell_type": "markdown",
   "metadata": {},
   "source": [
    "## Part 1"
   ]
  },
  {
   "cell_type": "code",
   "execution_count": 15,
   "metadata": {},
   "outputs": [],
   "source": [
    "with open('sample.txt') as f:\n",
    "    lines = f.read().splitlines()"
   ]
  },
  {
   "cell_type": "code",
   "execution_count": 5,
   "metadata": {},
   "outputs": [],
   "source": [
    "def transpose(grid: list[str]):\n",
    "    return [''.join(x) for x in zip(*grid)]"
   ]
  },
  {
   "cell_type": "code",
   "execution_count": 61,
   "metadata": {},
   "outputs": [],
   "source": [
    "def roll(stone: int, col: str):\n",
    "    if stone == 0 or col[stone - 1] != '.':\n",
    "        return col\n",
    "    else:\n",
    "        return roll(stone - 1, col[:stone - 1] + 'O.' + col[stone + 1:])"
   ]
  },
  {
   "cell_type": "code",
   "execution_count": 76,
   "metadata": {},
   "outputs": [],
   "source": [
    "new_T = []\n",
    "for col in transpose(lines):\n",
    "    new_col = col\n",
    "    for i in range(len(col)):\n",
    "        if col[i] == 'O':\n",
    "            new_col = roll(i, new_col)\n",
    "    new_T.append(new_col)\n",
    "new = transpose(new_T)"
   ]
  },
  {
   "cell_type": "code",
   "execution_count": 79,
   "metadata": {},
   "outputs": [
    {
     "data": {
      "text/plain": [
       "109638"
      ]
     },
     "execution_count": 79,
     "metadata": {},
     "output_type": "execute_result"
    }
   ],
   "source": [
    "sum((len(new) - r) * row.count('O') for r, row in enumerate(new))"
   ]
  },
  {
   "cell_type": "markdown",
   "metadata": {},
   "source": [
    "## Part 2"
   ]
  },
  {
   "cell_type": "markdown",
   "metadata": {},
   "source": [
    "Idea: you can split the list on `#`, sort each sublist, and then rejoin, because stones never move past `#`s"
   ]
  },
  {
   "cell_type": "code",
   "execution_count": 40,
   "metadata": {},
   "outputs": [],
   "source": [
    "def roll(grid: list[str], direction: int):\n",
    "    \"\"\"\n",
    "    Directions correspond to compass points, i.e. 0 = N, 1 = W, 2 = S, 3 = E\n",
    "    \"\"\"\n",
    "    if direction == 0:\n",
    "        grid_T = transpose(grid)\n",
    "        return tuple(transpose(['#'.join([''.join(sorted(list(group), reverse = True)) for group in col.split('#')]) for col in grid_T]))\n",
    "    \n",
    "    if direction == 1:\n",
    "        return tuple(['#'.join([''.join(sorted(list(group), reverse = True)) for group in row.split('#')]) for row in grid])\n",
    "    \n",
    "    if direction == 2:\n",
    "        grid_T = transpose(grid)\n",
    "        return tuple(transpose(['#'.join([''.join(sorted(list(group))) for group in col.split('#')]) for col in grid_T]))\n",
    "    \n",
    "    if direction == 3:\n",
    "        return tuple(['#'.join([''.join(sorted(list(group))) for group in row.split('#')]) for row in grid])\n",
    "\n"
   ]
  },
  {
   "cell_type": "code",
   "execution_count": 42,
   "metadata": {},
   "outputs": [],
   "source": [
    "def one_cycle(grid: list[str]):\n",
    "    for i in range(4):\n",
    "        grid = roll(grid, i)\n",
    "    return grid"
   ]
  },
  {
   "cell_type": "code",
   "execution_count": 62,
   "metadata": {},
   "outputs": [],
   "source": [
    "cache = {}\n",
    "\n",
    "def many_cycles(grid: list[str], n: int):\n",
    "    for i in range(n):\n",
    "        key = tuple(grid)\n",
    "        cache[i] = key\n",
    "        grid = one_cycle(grid)\n",
    "        if key in cache.values():\n",
    "            return cache[((n - i - 1) % (i - cache[key])) + i]"
   ]
  },
  {
   "cell_type": "code",
   "execution_count": 63,
   "metadata": {},
   "outputs": [
    {
     "data": {
      "text/plain": [
       "9"
      ]
     },
     "execution_count": 63,
     "metadata": {},
     "output_type": "execute_result"
    }
   ],
   "source": [
    "many_cycles(tuple(lines), 1000000000)"
   ]
  },
  {
   "cell_type": "code",
   "execution_count": 64,
   "metadata": {},
   "outputs": [
    {
     "data": {
      "text/plain": [
       "['O....#....',\n",
       " 'O.OO#....#',\n",
       " '.....##...',\n",
       " 'OO.#O....O',\n",
       " '.O.....O#.',\n",
       " 'O.#..O.#.#',\n",
       " '..O..#O..O',\n",
       " '.......O..',\n",
       " '#....###..',\n",
       " '#OO..#....']"
      ]
     },
     "execution_count": 64,
     "metadata": {},
     "output_type": "execute_result"
    }
   ],
   "source": [
    "lines"
   ]
  }
 ],
 "metadata": {
  "kernelspec": {
   "display_name": "venv",
   "language": "python",
   "name": "python3"
  },
  "language_info": {
   "codemirror_mode": {
    "name": "ipython",
    "version": 3
   },
   "file_extension": ".py",
   "mimetype": "text/x-python",
   "name": "python",
   "nbconvert_exporter": "python",
   "pygments_lexer": "ipython3",
   "version": "3.10.12"
  }
 },
 "nbformat": 4,
 "nbformat_minor": 2
}
