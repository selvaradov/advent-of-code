{
 "cells": [
  {
   "cell_type": "markdown",
   "metadata": {},
   "source": [
    "## Part 1"
   ]
  },
  {
   "cell_type": "code",
   "execution_count": 1,
   "metadata": {},
   "outputs": [],
   "source": [
    "with open('input.txt') as f:\n",
    "    lines = f.read().splitlines()"
   ]
  },
  {
   "cell_type": "code",
   "execution_count": 2,
   "metadata": {},
   "outputs": [],
   "source": [
    "sequences = [[int(x) for x in line.split()] for line in lines]"
   ]
  },
  {
   "cell_type": "code",
   "execution_count": 3,
   "metadata": {},
   "outputs": [],
   "source": [
    "def get_diffs(seq: list[int]):\n",
    "    return [seq[i + 1] - seq[i] for i in range(len(seq) - 1)]"
   ]
  },
  {
   "cell_type": "code",
   "execution_count": 4,
   "metadata": {},
   "outputs": [],
   "source": [
    "def analyse(seq: list[int]):\n",
    "    curr_diffs = seq.copy()\n",
    "    subseqs = {}\n",
    "    i = 0\n",
    "    while not all(d == 0 for d in curr_diffs):\n",
    "        subseqs[i] = curr_diffs.copy()\n",
    "        new_diffs = get_diffs(curr_diffs)\n",
    "        curr_diffs = new_diffs\n",
    "        i += 1\n",
    "    return subseqs\n"
   ]
  },
  {
   "cell_type": "code",
   "execution_count": 6,
   "metadata": {},
   "outputs": [],
   "source": [
    "def predict(subseqs: dict[int, list[int]]):\n",
    "    for layer in sorted(subseqs.keys(), reverse=True)[:-1]:\n",
    "        subseqs[layer - 1].append(subseqs[layer][-1] + subseqs[layer - 1][-1])\n",
    "    return subseqs[0][-1]"
   ]
  },
  {
   "cell_type": "code",
   "execution_count": 17,
   "metadata": {},
   "outputs": [
    {
     "name": "stdout",
     "output_type": "stream",
     "text": [
      "2105961943\n"
     ]
    }
   ],
   "source": [
    "subseqs_set = [analyse(seq) for seq in sequences]\n",
    "values = [predict(subseqs) for subseqs in subseqs_set]\n",
    "print(sum(values))"
   ]
  },
  {
   "cell_type": "markdown",
   "metadata": {},
   "source": [
    "## Part 2"
   ]
  },
  {
   "cell_type": "code",
   "execution_count": 8,
   "metadata": {},
   "outputs": [],
   "source": [
    "def predict_back(subseqs: dict[int, list[int]]):\n",
    "    for layer in sorted(subseqs.keys(), reverse=True)[:-1]:\n",
    "        subseqs[layer - 1].insert(0, subseqs[layer - 1][0] - subseqs[layer][0])\n",
    "    return subseqs[0][0]"
   ]
  },
  {
   "cell_type": "code",
   "execution_count": 18,
   "metadata": {},
   "outputs": [
    {
     "name": "stdout",
     "output_type": "stream",
     "text": [
      "1019\n"
     ]
    }
   ],
   "source": [
    "values = [predict_back(subseqs) for subseqs in subseqs_set]\n",
    "print(sum(values))"
   ]
  }
 ],
 "metadata": {
  "kernelspec": {
   "display_name": "venv",
   "language": "python",
   "name": "python3"
  },
  "language_info": {
   "codemirror_mode": {
    "name": "ipython",
    "version": 3
   },
   "file_extension": ".py",
   "mimetype": "text/x-python",
   "name": "python",
   "nbconvert_exporter": "python",
   "pygments_lexer": "ipython3",
   "version": "3.10.12"
  }
 },
 "nbformat": 4,
 "nbformat_minor": 2
}
