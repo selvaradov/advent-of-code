{
 "cells": [
  {
   "cell_type": "markdown",
   "metadata": {},
   "source": [
    "## Part 1"
   ]
  },
  {
   "cell_type": "code",
   "execution_count": 1,
   "metadata": {},
   "outputs": [],
   "source": [
    "import re\n",
    "def is_consistent(arrangement: str, criteria: list[int]):\n",
    "    contiguous_groups = [len(x) for x in re.findall(r'#+', arrangement)]\n",
    "    return contiguous_groups == criteria"
   ]
  },
  {
   "cell_type": "code",
   "execution_count": 2,
   "metadata": {},
   "outputs": [],
   "source": [
    "import itertools\n",
    "\n",
    "def generate_arrangements(record: str):\n",
    "    num_missing = record.count('?')\n",
    "    return (record.replace('?', '{}').format(*arrangement) for arrangement in itertools.product('#.', repeat=num_missing))"
   ]
  },
  {
   "cell_type": "code",
   "execution_count": 3,
   "metadata": {},
   "outputs": [],
   "source": [
    "def count_arrangements_naive(record: str, criteria: list[int]):\n",
    "    return sum(is_consistent(arrangement, criteria) for arrangement in generate_arrangements(record))"
   ]
  },
  {
   "cell_type": "code",
   "execution_count": 4,
   "metadata": {},
   "outputs": [],
   "source": [
    "with open('input.txt')  as f:\n",
    "    lines = f.read().splitlines()"
   ]
  },
  {
   "cell_type": "code",
   "execution_count": 5,
   "metadata": {},
   "outputs": [],
   "source": [
    "def count_arrangements(record: str, criteria: list[int]):\n",
    "    result = 0\n",
    "\n",
    "    if '#' not in record and criteria == []:\n",
    "        # print(\"No more groups, no more broken springs: consistent\")\n",
    "        # print('\\t', record, criteria, '\\n')\n",
    "        return 1 # even if we have lots of '?' remaining, the only consistent arrangement is when they are all '.', given that there are no more groups\n",
    "\n",
    "    if (record.count('?') + record.count('#') < sum(criteria)) or (record.count('#') > sum(criteria)):\n",
    "        # print(\"Too many definitely or too few possibly broken springs: inconsistent\")\n",
    "        # print('\\t', record, criteria, '\\n')\n",
    "        return 0 # if there are too few or too many springs, it's not consistent\n",
    "\n",
    "    if record[0] in '?.': # if the first spring is not faulty, we can just skip it\n",
    "        # print(\"Assume start is not faulty\")\n",
    "        # print('\\t', record, criteria, '\\n')\n",
    "        result += count_arrangements(record[1:], criteria)\n",
    "\n",
    "    if record[0] in '?#':\n",
    "        # print(\"Assume start is faulty\")\n",
    "        if len(record) >= criteria[0] and '.' not in record[:criteria[0]] and (len(record) == criteria[0] or record[criteria[0]] in '?.'): # order is important here for short-circuiting otherwise we get index out of range\n",
    "            # print(\"Conditions met for first group to be faulty\")\n",
    "            # print('\\t', record, criteria, '\\n')\n",
    "            result += count_arrangements(record[criteria[0] + 1:], criteria[1:]) # if it's a '.' after, we can skip it. if it's a '?', it has to be a '.', so we can skip it\n",
    "        else:\n",
    "            # print(\"Conditions not met for first group to be faulty\")\n",
    "            # print('\\t', record, criteria, '\\n')\n",
    "            pass\n",
    "    \n",
    "    return result"
   ]
  },
  {
   "cell_type": "code",
   "execution_count": 6,
   "metadata": {},
   "outputs": [
    {
     "name": "stdout",
     "output_type": "stream",
     "text": [
      "8270\n"
     ]
    }
   ],
   "source": [
    "num_arrangements = 0\n",
    "for line in lines:\n",
    "    record, criteria = line.split()\n",
    "    criteria = [int(x) for x in criteria.split(',')]\n",
    "    num_arrangements += count_arrangements(record, criteria)\n",
    "print(num_arrangements)"
   ]
  },
  {
   "cell_type": "markdown",
   "metadata": {},
   "source": [
    "## Part 2"
   ]
  },
  {
   "cell_type": "code",
   "execution_count": 7,
   "metadata": {},
   "outputs": [],
   "source": [
    "def unfold(record: str, criteria: list[int]):\n",
    "    return '?'.join([record] * 5), criteria * 5\n",
    "unfolded_records = [unfold(record, tuple([int(x) for x in criteria.split(',')])) for record, criteria in (line.split() for line in lines)]"
   ]
  },
  {
   "cell_type": "code",
   "execution_count": 8,
   "metadata": {},
   "outputs": [],
   "source": [
    "cache = {}\n",
    "\n",
    "def count_arrangements_cache(record: str, criteria: tuple[int]):\n",
    "    result = 0\n",
    "\n",
    "    if '#' not in record and not criteria:\n",
    "        return 1 # even if we have lots of '?' remaining, the only consistent arrangement is when they are all '.', given that there are no more groups\n",
    "\n",
    "    if (record.count('?') + record.count('#') < sum(criteria)) or (record.count('#') > sum(criteria)):\n",
    "        return 0 # if there are too few or too many springs, it's not consistent\n",
    "    \n",
    "    if (record, criteria) in cache:\n",
    "        return cache[(record, criteria)]\n",
    "\n",
    "    if record[0] in '?.': # if the first spring is not faulty, we can just skip it\n",
    "        result += count_arrangements_cache(record[1:], criteria)\n",
    "\n",
    "    if record[0] in '?#':\n",
    "        if criteria[0] <= len(record) and '.' not in record[:criteria[0]] and (criteria[0] == len(record) or record[criteria[0]] in '?.'): # order is important here for short-circuiting otherwise we get index out of range\n",
    "            result += count_arrangements_cache(record[criteria[0] + 1:], criteria[1:]) # if it's a '.' after, we can skip it. if it's a '?', it has to be a '.', so we can skip it\n",
    "\n",
    "    cache[(record, criteria)] = result\n",
    "    return result"
   ]
  },
  {
   "cell_type": "code",
   "execution_count": 9,
   "metadata": {},
   "outputs": [
    {
     "name": "stdout",
     "output_type": "stream",
     "text": [
      "204640299929836\n"
     ]
    }
   ],
   "source": [
    "num_arrangements = 0\n",
    "for record, criteria in unfolded_records:\n",
    "    num_arrangements += count_arrangements_cache(record, criteria)\n",
    "print(num_arrangements)"
   ]
  }
 ],
 "metadata": {
  "kernelspec": {
   "display_name": "venv",
   "language": "python",
   "name": "python3"
  },
  "language_info": {
   "codemirror_mode": {
    "name": "ipython",
    "version": 3
   },
   "file_extension": ".py",
   "mimetype": "text/x-python",
   "name": "python",
   "nbconvert_exporter": "python",
   "pygments_lexer": "ipython3",
   "version": "3.10.12"
  }
 },
 "nbformat": 4,
 "nbformat_minor": 2
}
