{
 "cells": [
  {
   "cell_type": "markdown",
   "metadata": {},
   "source": [
    "## Part 1"
   ]
  },
  {
   "cell_type": "markdown",
   "metadata": {},
   "source": [
    "Idea: define split and reflect, then propagate beam through the entire grid. Make a set of coords that light passes through; its length is number that are energised.\n",
    "\n",
    "Problems\n",
    "- How do you know when you're done propagating?\n",
    "    - ==> when all the beams of light have collided with walls\n",
    "    - Do with recursion when something splits?"
   ]
  },
  {
   "cell_type": "code",
   "execution_count": null,
   "metadata": {},
   "outputs": [],
   "source": [
    "class Beam:\n",
    "    def __init__(self, r: int, c: int, dr: int, dc: int):\n",
    "        self.r = r\n",
    "        self.c = c\n",
    "        self.dr = dr\n",
    "        self.dc = dc\n",
    "\n",
    "    def __str__(self):\n",
    "        return f\"r: {self.r}, c: {self.c}, dr: {self.dr}, dc: {self.dc}\"\n",
    "    \n",
    "    def npos(self):\n",
    "        return self.r + self.dr, self.c + self.dc\n",
    "    \n",
    "    def step(self):\n",
    "        self.r += self.dr\n",
    "        self.c += self.dc"
   ]
  },
  {
   "cell_type": "code",
   "execution_count": null,
   "metadata": {},
   "outputs": [],
   "source": [
    "visited = set()\n",
    "\n",
    "\n",
    "def step(beam: Beam, grid: list[list[int]]) -> list[Beam]:\n",
    "    \"\"\"Propagate the laser beam one step, from a given starting position and velocity, and returning all new Beams as a list.\"\"\"\n",
    "    # r, c = beam.r, beam.c\n",
    "    dr, dc = beam.dr, beam.dc\n",
    "    nr, nc = beam.npos()\n",
    "\n",
    "    if not (0 <= nr < len(grid) and 0 <= nc < len(grid[0])):\n",
    "        return []\n",
    "    nchar = grid[nr][nc]\n",
    "    \n",
    "    if nchar == '.':\n",
    "        visited.add((nr, nc))\n",
    "        return [beam.step()]\n",
    "    \n",
    "    if nchar == '/':\n",
    "        if dr == 0:\n",
    "            \n",
    "        else:\n",
    "            return prop(npos, (dc, dr), grid)\n",
    "\n"
   ]
  },
  {
   "cell_type": "markdown",
   "metadata": {},
   "source": [
    "## Part 2"
   ]
  },
  {
   "cell_type": "code",
   "execution_count": null,
   "metadata": {},
   "outputs": [],
   "source": []
  }
 ],
 "metadata": {
  "language_info": {
   "name": "python"
  }
 },
 "nbformat": 4,
 "nbformat_minor": 2
}
