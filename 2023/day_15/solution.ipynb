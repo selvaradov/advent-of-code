{
 "cells": [
  {
   "cell_type": "markdown",
   "metadata": {},
   "source": [
    "## Part 1"
   ]
  },
  {
   "cell_type": "code",
   "execution_count": 56,
   "metadata": {},
   "outputs": [],
   "source": [
    "with open('input.txt') as f:\n",
    "    init = f.read().split(',')"
   ]
  },
  {
   "cell_type": "code",
   "execution_count": 5,
   "metadata": {},
   "outputs": [],
   "source": [
    "def single(char: str, curr: int):\n",
    "    assert len(char) == 1\n",
    "    curr += ord(char)\n",
    "    curr *= 17\n",
    "    curr = curr % 256\n",
    "    return curr\n",
    "\n",
    "def alg(chars: str):\n",
    "    curr = 0\n",
    "    for char in chars:\n",
    "        curr = single(char, curr)\n",
    "    return curr"
   ]
  },
  {
   "cell_type": "code",
   "execution_count": 11,
   "metadata": {},
   "outputs": [
    {
     "data": {
      "text/plain": [
       "510388"
      ]
     },
     "execution_count": 11,
     "metadata": {},
     "output_type": "execute_result"
    }
   ],
   "source": [
    "sum(alg(chars) for chars in init)"
   ]
  },
  {
   "cell_type": "markdown",
   "metadata": {},
   "source": [
    "## Part 2"
   ]
  },
  {
   "cell_type": "code",
   "execution_count": 57,
   "metadata": {},
   "outputs": [],
   "source": [
    "boxes = {i: [] for i in range(256)}"
   ]
  },
  {
   "cell_type": "code",
   "execution_count": 58,
   "metadata": {},
   "outputs": [],
   "source": [
    "def check(i: int, label: str):\n",
    "    lenses = boxes[i]\n",
    "    if not lenses:\n",
    "        return False\n",
    "    labels = list(zip(*lenses))[0]\n",
    "    if label in labels:\n",
    "        return (True, labels.index(label))\n",
    "    else:\n",
    "        return False\n"
   ]
  },
  {
   "cell_type": "code",
   "execution_count": 59,
   "metadata": {},
   "outputs": [],
   "source": [
    "def rem_lens(i: int, label: str):\n",
    "    pos = check(i, label)\n",
    "    if pos:\n",
    "        boxes[i].pop(pos[1])"
   ]
  },
  {
   "cell_type": "code",
   "execution_count": 60,
   "metadata": {},
   "outputs": [],
   "source": [
    "def add_lens(i: int, lens: tuple[str, int]):\n",
    "    pos = check(i, lens[0])\n",
    "    if pos:\n",
    "        # replace the lens at pos with the new lens\n",
    "        boxes[i][pos[1]] = lens\n",
    "    else:\n",
    "        # put the lens at the end\n",
    "        boxes[i].append(lens)   "
   ]
  },
  {
   "cell_type": "code",
   "execution_count": 61,
   "metadata": {},
   "outputs": [],
   "source": [
    "def do_step(step: str):\n",
    "    operation = '-' in step\n",
    "    if operation:\n",
    "        # remove\n",
    "        label, _ = step.split('-')\n",
    "        i = alg(label)\n",
    "        rem_lens(i, label)\n",
    "    else:\n",
    "        # add\n",
    "        label, length = step.split('=')\n",
    "        i = alg(label)\n",
    "        lens = (label, int(length))\n",
    "        add_lens(i, lens)"
   ]
  },
  {
   "cell_type": "code",
   "execution_count": 62,
   "metadata": {},
   "outputs": [],
   "source": [
    "for s in init:\n",
    "    do_step(s)"
   ]
  },
  {
   "cell_type": "code",
   "execution_count": 63,
   "metadata": {},
   "outputs": [
    {
     "data": {
      "text/plain": [
       "291774"
      ]
     },
     "execution_count": 63,
     "metadata": {},
     "output_type": "execute_result"
    }
   ],
   "source": [
    "total = 0\n",
    "for k, v in boxes.items():\n",
    "    for pos, lens in enumerate(v):\n",
    "        total += (k + 1) * (pos + 1) * lens[1]\n",
    "\n",
    "total"
   ]
  }
 ],
 "metadata": {
  "kernelspec": {
   "display_name": "venv",
   "language": "python",
   "name": "python3"
  },
  "language_info": {
   "codemirror_mode": {
    "name": "ipython",
    "version": 3
   },
   "file_extension": ".py",
   "mimetype": "text/x-python",
   "name": "python",
   "nbconvert_exporter": "python",
   "pygments_lexer": "ipython3",
   "version": "3.10.12"
  }
 },
 "nbformat": 4,
 "nbformat_minor": 2
}
