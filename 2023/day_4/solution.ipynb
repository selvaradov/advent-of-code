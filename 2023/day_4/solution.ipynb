{
 "cells": [
  {
   "cell_type": "code",
   "execution_count": 79,
   "metadata": {},
   "outputs": [],
   "source": [
    "with open('input.txt') as f:\n",
    "    lines = f.readlines()"
   ]
  },
  {
   "cell_type": "code",
   "execution_count": 80,
   "metadata": {},
   "outputs": [],
   "source": [
    "import re\n",
    "winners_patt = re.compile(r'(?<=:).+(?=\\|)')\n",
    "mine_patt = re.compile(r'(?<=\\|).+')"
   ]
  },
  {
   "cell_type": "code",
   "execution_count": 81,
   "metadata": {},
   "outputs": [],
   "source": [
    "scores = []\n",
    "for line in lines:\n",
    "    score = 0\n",
    "    winners = re.search(winners_patt, line).group().split()\n",
    "    for num in re.search(mine_patt, line).group().split():\n",
    "        if num in winners:\n",
    "            if score == 0:\n",
    "                score = 1\n",
    "            else:\n",
    "                score *= 2\n",
    "    scores.append(score)"
   ]
  },
  {
   "cell_type": "code",
   "execution_count": 82,
   "metadata": {},
   "outputs": [
    {
     "name": "stdout",
     "output_type": "stream",
     "text": [
      "32609\n"
     ]
    }
   ],
   "source": [
    "print(sum(scores))"
   ]
  },
  {
   "cell_type": "markdown",
   "metadata": {},
   "source": [
    "## Part 2"
   ]
  },
  {
   "cell_type": "code",
   "execution_count": 83,
   "metadata": {},
   "outputs": [],
   "source": [
    "cards = {i: 1 for i in range(len(lines))}\n",
    "for i, line in enumerate(lines):\n",
    "    score = 0\n",
    "    winners = re.search(winners_patt, line).group().split()\n",
    "    for num in re.search(mine_patt, line).group().split():\n",
    "        if num in winners:\n",
    "            score += 1\n",
    "    for j in range(i, i + score):\n",
    "        cards[j + 1] += cards[i]"
   ]
  },
  {
   "cell_type": "code",
   "execution_count": 84,
   "metadata": {},
   "outputs": [
    {
     "name": "stdout",
     "output_type": "stream",
     "text": [
      "14624680\n"
     ]
    }
   ],
   "source": [
    "print(sum(cards.values()))"
   ]
  }
 ],
 "metadata": {
  "kernelspec": {
   "display_name": "venv",
   "language": "python",
   "name": "python3"
  },
  "language_info": {
   "codemirror_mode": {
    "name": "ipython",
    "version": 3
   },
   "file_extension": ".py",
   "mimetype": "text/x-python",
   "name": "python",
   "nbconvert_exporter": "python",
   "pygments_lexer": "ipython3",
   "version": "3.10.12"
  }
 },
 "nbformat": 4,
 "nbformat_minor": 2
}
