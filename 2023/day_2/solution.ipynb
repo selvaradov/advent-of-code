{
 "cells": [
  {
   "cell_type": "markdown",
   "metadata": {},
   "source": [
    "## Part 1"
   ]
  },
  {
   "cell_type": "code",
   "execution_count": 29,
   "metadata": {},
   "outputs": [],
   "source": [
    "with open('input.txt') as f:\n",
    "    lines = f.readlines()"
   ]
  },
  {
   "cell_type": "code",
   "execution_count": 30,
   "metadata": {},
   "outputs": [],
   "source": [
    "import re\n",
    "pattern = re.compile(r'(\\d+) (\\w)')\n",
    "\n",
    "def parse(line: str):\n",
    "    \"\"\"\n",
    "    Splits by semicolons to get each handful\n",
    "    Appends number of each colour to their respective lists\n",
    "    \"\"\"\n",
    "    game = {'r': [], 'g': [], 'b': []}\n",
    "    handfuls = line.split(';')\n",
    "    for handful in handfuls:\n",
    "        for match in re.findall(pattern, handful):\n",
    "            game[match[1]].append(int(match[0]))\n",
    "    return game"
   ]
  },
  {
   "cell_type": "code",
   "execution_count": 31,
   "metadata": {},
   "outputs": [],
   "source": [
    "maxes = {'r': 12, 'g': 13, 'b': 14}"
   ]
  },
  {
   "cell_type": "code",
   "execution_count": 32,
   "metadata": {},
   "outputs": [],
   "source": [
    "def check(game: dict[str, list[int]]):\n",
    "    \"\"\"\n",
    "    Checks if the game is valid\n",
    "    \"\"\"\n",
    "    for colour, cubes in game.items():\n",
    "        if max(cubes) > maxes[colour]:\n",
    "            return False\n",
    "    return True"
   ]
  },
  {
   "cell_type": "code",
   "execution_count": 33,
   "metadata": {},
   "outputs": [
    {
     "name": "stdout",
     "output_type": "stream",
     "text": [
      "1853\n"
     ]
    }
   ],
   "source": [
    "valid = []\n",
    "for i, line in enumerate(lines):\n",
    "    game = parse(line)\n",
    "    if check(game):\n",
    "        valid.append(i + 1)\n",
    "print(sum(valid))"
   ]
  },
  {
   "cell_type": "markdown",
   "metadata": {},
   "source": [
    "## Part 2"
   ]
  },
  {
   "cell_type": "code",
   "execution_count": 34,
   "metadata": {},
   "outputs": [],
   "source": [
    "from math import prod\n",
    "def find_min(game: dict[str, list[int]]):\n",
    "    \"\"\"\n",
    "    Finds the minimum number of cubes that need to be removed\n",
    "    \"\"\"\n",
    "    mins = {'r': None, 'g': None, 'b': None}\n",
    "    for colour, cubes in game.items():\n",
    "        mins[colour] = max(cubes)\n",
    "    return mins"
   ]
  },
  {
   "cell_type": "code",
   "execution_count": 35,
   "metadata": {},
   "outputs": [
    {
     "name": "stdout",
     "output_type": "stream",
     "text": [
      "72706\n"
     ]
    }
   ],
   "source": [
    "powers = 0\n",
    "for line in lines:\n",
    "    game = parse(line)\n",
    "    mins = find_min(game)\n",
    "    power = prod(mins.values())\n",
    "    powers += power\n",
    "print(powers)"
   ]
  }
 ],
 "metadata": {
  "kernelspec": {
   "display_name": "venv",
   "language": "python",
   "name": "python3"
  },
  "language_info": {
   "codemirror_mode": {
    "name": "ipython",
    "version": 3
   },
   "file_extension": ".py",
   "mimetype": "text/x-python",
   "name": "python",
   "nbconvert_exporter": "python",
   "pygments_lexer": "ipython3",
   "version": "3.10.12"
  }
 },
 "nbformat": 4,
 "nbformat_minor": 2
}
