{
 "cells": [
  {
   "cell_type": "markdown",
   "metadata": {},
   "source": [
    "## Part 1"
   ]
  },
  {
   "cell_type": "code",
   "execution_count": 116,
   "metadata": {},
   "outputs": [],
   "source": [
    "with open('input.txt') as f:\n",
    "    grids = [section.splitlines() for section in f.read().split('\\n\\n')]"
   ]
  },
  {
   "cell_type": "code",
   "execution_count": 84,
   "metadata": {},
   "outputs": [],
   "source": [
    "def row_mirror(grid):\n",
    "    for i in range(1, len(grid)):\n",
    "        if all((grid[j] == grid[2*i - j - 1] for j in range(max(0, 2*i - len(grid)), i))):\n",
    "            return i * 100"
   ]
  },
  {
   "cell_type": "code",
   "execution_count": 85,
   "metadata": {},
   "outputs": [],
   "source": [
    "def col_mirror(grid):\n",
    "    transpose = list(zip(*grid))\n",
    "    return row_mirror(transpose) // 100"
   ]
  },
  {
   "cell_type": "code",
   "execution_count": 86,
   "metadata": {},
   "outputs": [
    {
     "name": "stdout",
     "output_type": "stream",
     "text": [
      "37113\n"
     ]
    }
   ],
   "source": [
    "total = sum(row_mirror(grid) or col_mirror(grid) for grid in grids)\n",
    "print(total)"
   ]
  },
  {
   "cell_type": "markdown",
   "metadata": {},
   "source": [
    "## Part 2"
   ]
  },
  {
   "cell_type": "code",
   "execution_count": 130,
   "metadata": {},
   "outputs": [],
   "source": [
    "def row_mirror_mismatch(grid):\n",
    "    width = len(grid[0])\n",
    "    for i in range(1, len(grid)):\n",
    "            if sum((grid[j][k] != grid[2*i - j - 1][k] for j in range(max(0, 2*i - len(grid)), i) for k in range(width))) == 1:\n",
    "                return i * 100\n",
    "    return 0\n",
    "\n",
    "## Explicit loops\n",
    "# def row_mirror_mismatch(grid):\n",
    "#     width = len(grid[0])\n",
    "#     for i in range(1, len(grid)):\n",
    "#         mismatches = 0\n",
    "#         for j in range(max(0, 2*i - len(grid)), i):\n",
    "#                 for k in range(width):\n",
    "#                     if grid[j][k] != grid[2*i - j - 1][k]:\n",
    "#                         mismatches += 1\n",
    "#         if mismatches == 1:\n",
    "#             return i * 100\n",
    "#     return 0"
   ]
  },
  {
   "cell_type": "code",
   "execution_count": 88,
   "metadata": {},
   "outputs": [],
   "source": [
    "def col_mirror_mismatch(grid):\n",
    "    transpose = list(zip(*grid))\n",
    "    return row_mirror_mismatch(transpose) // 100"
   ]
  },
  {
   "cell_type": "code",
   "execution_count": 131,
   "metadata": {},
   "outputs": [
    {
     "name": "stdout",
     "output_type": "stream",
     "text": [
      "30449\n"
     ]
    }
   ],
   "source": [
    "total = sum(row_mirror_mismatch(grid) or col_mirror_mismatch(grid) for grid in grids)\n",
    "print(total)"
   ]
  }
 ],
 "metadata": {
  "kernelspec": {
   "display_name": "venv",
   "language": "python",
   "name": "python3"
  },
  "language_info": {
   "codemirror_mode": {
    "name": "ipython",
    "version": 3
   },
   "file_extension": ".py",
   "mimetype": "text/x-python",
   "name": "python",
   "nbconvert_exporter": "python",
   "pygments_lexer": "ipython3",
   "version": "3.10.12"
  }
 },
 "nbformat": 4,
 "nbformat_minor": 2
}
