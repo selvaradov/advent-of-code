{
 "cells": [
  {
   "cell_type": "markdown",
   "metadata": {},
   "source": [
    "## Part 1"
   ]
  },
  {
   "cell_type": "code",
   "execution_count": 32,
   "metadata": {},
   "outputs": [],
   "source": [
    "with open('input.txt') as f:\n",
    "    instructions, graph = f.read().split('\\n\\n')"
   ]
  },
  {
   "cell_type": "code",
   "execution_count": 33,
   "metadata": {},
   "outputs": [],
   "source": [
    "import re\n",
    "def parse_graph(graph: str):\n",
    "    nodes = {}\n",
    "    pattern = re.compile(r'(\\w+)\\s*=\\s*\\((\\w+),\\s*(\\w+)\\)')\n",
    "    for line in graph.splitlines():\n",
    "        name, left, right = pattern.match(line).groups()\n",
    "        nodes[name] = (left, right)\n",
    "    return nodes\n",
    "nodes = parse_graph(graph)"
   ]
  },
  {
   "cell_type": "code",
   "execution_count": 46,
   "metadata": {},
   "outputs": [],
   "source": [
    "def get_next_node(direction: str, node: str):\n",
    "    return nodes[node][0 if direction == 'L' else 1]"
   ]
  },
  {
   "cell_type": "code",
   "execution_count": 35,
   "metadata": {},
   "outputs": [
    {
     "name": "stdout",
     "output_type": "stream",
     "text": [
      "19631\n"
     ]
    }
   ],
   "source": [
    "curr_node = 'AAA'\n",
    "i = 0\n",
    "while curr_node != 'ZZZ':\n",
    "    direction = instructions[i % len(instructions)]\n",
    "    curr_node = get_next_node(direction, curr_node)\n",
    "    i += 1\n",
    "print(i)"
   ]
  },
  {
   "cell_type": "markdown",
   "metadata": {},
   "source": [
    "## Part 2"
   ]
  },
  {
   "cell_type": "code",
   "execution_count": 51,
   "metadata": {},
   "outputs": [],
   "source": [
    "starting_nodes = [node for node in nodes if node[-1] == 'A']\n",
    "finishing_nodes = [node for node in nodes if node[-1] == 'Z']"
   ]
  },
  {
   "cell_type": "code",
   "execution_count": 61,
   "metadata": {},
   "outputs": [
    {
     "name": "stdout",
     "output_type": "stream",
     "text": [
      "46294\n"
     ]
    }
   ],
   "source": [
    "curr_nodes = starting_nodes\n",
    "i = 0\n",
    "i_s = {node: [] for node in finishing_nodes}\n",
    "while not all(node[-1] == 'Z' for node in curr_nodes):\n",
    "    next_nodes = []\n",
    "    direction = instructions[i % len(instructions)]\n",
    "    for node in curr_nodes:\n",
    "        next_node = get_next_node(direction, node)\n",
    "        next_nodes.append(next_node)\n",
    "        if next_node[-1] == 'Z':\n",
    "            i_s[next_node].append(i) \n",
    "    curr_nodes = next_nodes\n",
    "    i += 1\n",
    "    if all(len(l) >= 2 for l in i_s.values()):\n",
    "        break\n",
    "print(i)"
   ]
  },
  {
   "cell_type": "code",
   "execution_count": 63,
   "metadata": {},
   "outputs": [],
   "source": [
    "loop_lengths = [l[1] - l[0] for l in i_s.values()]\n",
    "from math import lcm\n",
    "print(lcm(*loop_lengths))"
   ]
  }
 ],
 "metadata": {
  "kernelspec": {
   "display_name": "venv",
   "language": "python",
   "name": "python3"
  },
  "language_info": {
   "codemirror_mode": {
    "name": "ipython",
    "version": 3
   },
   "file_extension": ".py",
   "mimetype": "text/x-python",
   "name": "python",
   "nbconvert_exporter": "python",
   "pygments_lexer": "ipython3",
   "version": "3.10.12"
  }
 },
 "nbformat": 4,
 "nbformat_minor": 2
}
