{
 "cells": [
  {
   "cell_type": "markdown",
   "metadata": {},
   "source": [
    "## Part 1"
   ]
  },
  {
   "cell_type": "markdown",
   "metadata": {},
   "source": [
    "Idea: start at S. Perform a (depth-first?) search starting in all of the four initial directions that are possible. This will find you the path.\n",
    "\n",
    "If there is a single furthest-away point regardless of direction chosen, then there must be an even number of parts in the loop, and we can find the distance by doing length(loop) / 2"
   ]
  },
  {
   "cell_type": "markdown",
   "metadata": {},
   "source": [
    "Watch out! Indexing starts with the top-left value as `(0,0)` and increases downwards and rightwards. Give the row index `i` first, then column `j` (so effectively `(y, x)`)."
   ]
  },
  {
   "cell_type": "code",
   "execution_count": 12,
   "metadata": {},
   "outputs": [],
   "source": [
    "with open('input.txt') as f:\n",
    "    grid = [list(x) for x in f.read().splitlines()]"
   ]
  },
  {
   "cell_type": "code",
   "execution_count": 13,
   "metadata": {},
   "outputs": [],
   "source": [
    "def get_start(grid: list[list[str]]):\n",
    "    for i, row in enumerate(grid):\n",
    "        if 'S' in row:\n",
    "            return i, row.index('S')"
   ]
  },
  {
   "cell_type": "code",
   "execution_count": 14,
   "metadata": {},
   "outputs": [],
   "source": [
    "pipe_connections = {\n",
    "    'S': [(0, -1),  (0, 1), (1, 0), (-1, 0)],\n",
    "    '|': [(1, 0), (-1, 0)],\n",
    "    '-': [(0, 1), (0, -1)],\n",
    "    'F': [(0, 1), (1, 0)],\n",
    "    'L': [(0, 1), (-1, 0)],\n",
    "    '7': [(0, -1), (1, 0)],\n",
    "    'J': [(0, -1), (-1, 0)]\n",
    "}"
   ]
  },
  {
   "cell_type": "code",
   "execution_count": 15,
   "metadata": {},
   "outputs": [],
   "source": [
    "def get_adj_tiles(i: int, j: int):\n",
    "    adj_tiles = []\n",
    "    for i_offset, j_offset in pipe_connections[grid[i][j]]:\n",
    "        if 0 <= i + i_offset < len(grid) and 0 <= j + j_offset < len(grid[0]): # check if in bounds\n",
    "            adj_tile = grid[i + i_offset][j + j_offset]\n",
    "            if adj_tile != '.': # i.e. it's a pipe\n",
    "                if (-i_offset, -j_offset) in pipe_connections[adj_tile]:\n",
    "                    adj_tiles.append((i + i_offset, j + j_offset))\n",
    "    return adj_tiles"
   ]
  },
  {
   "cell_type": "code",
   "execution_count": 16,
   "metadata": {},
   "outputs": [],
   "source": [
    "def dfs(start_tile: tuple[int, int]):\n",
    "    stack = [(start_tile, [start_tile])]\n",
    "    while stack:\n",
    "        curr_tile, path = stack.pop()\n",
    "        if len(path) != 1 and curr_tile == path[0]:\n",
    "            return path[:-1]\n",
    "        for adj_tile in get_adj_tiles(*curr_tile): \n",
    "            if len(path) < 2 or adj_tile != path[-2]: # don't revisit the tile we just came from\n",
    "                stack.append((adj_tile, path + [adj_tile])) # if we're at a dead end, there won't be any adj_tiles to add to the stack, \n",
    "                                                            # so when it pops off the end of the stack again, it'll be backtracking to the last junction (since everything it visited got removed from the stack)\n",
    "    return None"
   ]
  },
  {
   "cell_type": "code",
   "execution_count": 25,
   "metadata": {},
   "outputs": [
    {
     "data": {
      "text/plain": [
       "6842.0"
      ]
     },
     "execution_count": 25,
     "metadata": {},
     "output_type": "execute_result"
    }
   ],
   "source": [
    "s_i, s_j = get_start(grid)\n",
    "path = dfs((s_i, s_j))\n",
    "len(path) / 2"
   ]
  },
  {
   "cell_type": "markdown",
   "metadata": {},
   "source": [
    "## Part 2"
   ]
  },
  {
   "cell_type": "markdown",
   "metadata": {},
   "source": [
    "[Pick's theorem](https://en.wikipedia.org/wiki/Pick%27s_theorem) tells us that the area $A$ of a simple polygon with integer vertices is given by $A=i + \\frac b 2 -1$ where $i = \\text{number of interior points}$ and $b = \\text {number of boundary points}$.\n",
    "\n",
    "We can calculate $A$ easily using the [shoelace formula](https://en.wikipedia.org/wiki/Shoelace_formula). Then, we rearrange to get $i = A - \\frac b 2 + 1$, where $b$ is just the length of our pipe"
   ]
  },
  {
   "cell_type": "code",
   "execution_count": 20,
   "metadata": {},
   "outputs": [],
   "source": [
    "def get_area(polygon: list[tuple[int, int]]): # implementation of shoelace formula\n",
    "    area = 0\n",
    "    for i in range(len(polygon)):\n",
    "        area += polygon[i][0] * polygon[(i + 1) % len(polygon)][1] - polygon[(i + 1) % len(polygon)][0] * polygon[i][1] # x_i * y_{i+1} - x_{i+1} * y_i\n",
    "    return area / 2"
   ]
  },
  {
   "cell_type": "code",
   "execution_count": 21,
   "metadata": {},
   "outputs": [],
   "source": [
    "def get_interior_points(polygon: list[tuple[int, int]]):\n",
    "    return get_area(polygon) - len(polygon) / 2 + 1"
   ]
  },
  {
   "cell_type": "code",
   "execution_count": 24,
   "metadata": {},
   "outputs": [
    {
     "data": {
      "text/plain": [
       "393.0"
      ]
     },
     "execution_count": 24,
     "metadata": {},
     "output_type": "execute_result"
    }
   ],
   "source": [
    "get_interior_points(path)"
   ]
  },
  {
   "cell_type": "code",
   "execution_count": 18,
   "metadata": {},
   "outputs": [],
   "source": [
    "def get_vertices(polygon: list[tuple[int, int]]):\n",
    "    vertices = []\n",
    "    for n, node in enumerate(path):\n",
    "        prev = polygon[(n - 1) % len(polygon)]\n",
    "        subs = polygon[(n + 1) % len(polygon)]\n",
    "        s = (node[0] - prev[0], node[1] - prev[1])\n",
    "        t = (subs[0] - node[0], subs[1] - node[1])\n",
    "        assert subs == (prev[0] + s[0] + t[0], prev[1] + s[1] + t[1])\n",
    "        if s[0] * t[0] + s[1] * t[1] == 0: # if s and t are perpendicular\n",
    "            vertices.append(node)\n",
    "    return vertices"
   ]
  }
 ],
 "metadata": {
  "kernelspec": {
   "display_name": "venv",
   "language": "python",
   "name": "python3"
  },
  "language_info": {
   "codemirror_mode": {
    "name": "ipython",
    "version": 3
   },
   "file_extension": ".py",
   "mimetype": "text/x-python",
   "name": "python",
   "nbconvert_exporter": "python",
   "pygments_lexer": "ipython3",
   "version": "3.10.12"
  }
 },
 "nbformat": 4,
 "nbformat_minor": 2
}
