{
 "cells": [
  {
   "cell_type": "markdown",
   "metadata": {},
   "source": [
    "## Part 1"
   ]
  },
  {
   "cell_type": "code",
   "execution_count": 88,
   "metadata": {},
   "outputs": [],
   "source": [
    "with open('input.txt') as f:\n",
    "    lines = f.read().splitlines()"
   ]
  },
  {
   "cell_type": "markdown",
   "metadata": {},
   "source": [
    "Idea: use a power of 13 to lexically rank the cards."
   ]
  },
  {
   "cell_type": "code",
   "execution_count": 89,
   "metadata": {},
   "outputs": [],
   "source": [
    "strengths = '23456789TJQKA'"
   ]
  },
  {
   "cell_type": "code",
   "execution_count": 90,
   "metadata": {},
   "outputs": [],
   "source": [
    "# Key: 7 = five of a kind, 6 = four of a kind, 5 = full house, 4 = three of a kind, 3 = two pair, 2 = one pair, 1 = high card\n",
    "def classify_hand_type(hand: str):\n",
    "    assert len(hand) == 5\n",
    "    if len(set(hand)) == 1:\n",
    "        return 7\n",
    "    elif len(set(hand)) == 2:\n",
    "        if max(hand.count(card) for card in set(hand)) == 4:\n",
    "            return 6\n",
    "        return 5\n",
    "    elif len(set(hand)) == 3:\n",
    "        if max(hand.count(card) for card in set(hand)) == 3:\n",
    "            return 4\n",
    "        return 3\n",
    "    elif len(set(hand)) == 4:\n",
    "        return 2\n",
    "    elif len(set(hand)) == 5:\n",
    "        return 1"
   ]
  },
  {
   "cell_type": "code",
   "execution_count": 91,
   "metadata": {},
   "outputs": [],
   "source": [
    "def hand_strength(hand: str):\n",
    "    assert len(hand) == 5\n",
    "    strength = classify_hand_type(hand) * 13 ** 5\n",
    "    for i, card in enumerate(hand):\n",
    "        strength += strengths.index(card) * 13 ** (4 - i)\n",
    "    return strength"
   ]
  },
  {
   "cell_type": "code",
   "execution_count": 92,
   "metadata": {},
   "outputs": [],
   "source": [
    "hands = {line.split()[0]: int(line.split()[1]) for line in lines}\n"
   ]
  },
  {
   "cell_type": "code",
   "execution_count": 93,
   "metadata": {},
   "outputs": [],
   "source": [
    "hand_strengths = {hand: hand_strength(hand) for hand in hands}\n",
    "ranked_hands = sorted(hands.keys(), key=lambda key: hand_strengths[key])"
   ]
  },
  {
   "cell_type": "code",
   "execution_count": 94,
   "metadata": {},
   "outputs": [
    {
     "data": {
      "text/plain": [
       "250951660"
      ]
     },
     "execution_count": 94,
     "metadata": {},
     "output_type": "execute_result"
    }
   ],
   "source": [
    "winnings = 0\n",
    "for i, hand in enumerate(ranked_hands):\n",
    "    winnings += hands[hand] * (i + 1)\n",
    "winnings"
   ]
  },
  {
   "cell_type": "markdown",
   "metadata": {},
   "source": [
    "## Part 2"
   ]
  },
  {
   "cell_type": "code",
   "execution_count": 95,
   "metadata": {},
   "outputs": [],
   "source": [
    "strengths = 'J23456789TQKA'"
   ]
  },
  {
   "cell_type": "code",
   "execution_count": 96,
   "metadata": {},
   "outputs": [],
   "source": [
    "# Key: 7 = five of a kind, 6 = four of a kind, 5 = full house, 4 = three of a kind, 3 = two pair, 2 = one pair, 1 = high card\n",
    "def classify_hand_type(hand: str):\n",
    "    assert len(hand) == 5\n",
    "    if len(set(hand)) == 1:\n",
    "        return 7\n",
    "    elif len(set(hand)) == 2:\n",
    "        if 'J' in hand:\n",
    "            return 7 # Jokers are wild; so if you have only jokers and some other card, you have a five of a kind\n",
    "        if max(hand.count(card) for card in set(hand)) == 4:\n",
    "            return 6\n",
    "        return 5\n",
    "    elif len(set(hand)) == 3:\n",
    "        if max(hand.count(card) for card in set(hand)) == 3:\n",
    "            if 'J' in hand:\n",
    "                return 6 # If you have three of a kind and at least one joker, you have a four of a kind\n",
    "            return 4\n",
    "        if hand.count('J') == 2:\n",
    "            return 6 # If you have two pairs and two jokers, you have a four of a kind\n",
    "        if hand.count('J') == 1:\n",
    "            return 5\n",
    "        return 3\n",
    "    elif len(set(hand)) == 4:\n",
    "        if 'J' in hand:\n",
    "            return 4\n",
    "        return 2\n",
    "    elif len(set(hand)) == 5:\n",
    "        if 'J' in hand:\n",
    "            return 2\n",
    "        return 1"
   ]
  },
  {
   "cell_type": "code",
   "execution_count": 97,
   "metadata": {},
   "outputs": [],
   "source": [
    "hand_strengths = {hand: hand_strength(hand) for hand in hands}\n",
    "ranked_hands = sorted(hands.keys(), key=lambda key: hand_strengths[key])"
   ]
  },
  {
   "cell_type": "code",
   "execution_count": 98,
   "metadata": {},
   "outputs": [
    {
     "data": {
      "text/plain": [
       "251481660"
      ]
     },
     "execution_count": 98,
     "metadata": {},
     "output_type": "execute_result"
    }
   ],
   "source": [
    "winnings = 0\n",
    "for i, hand in enumerate(ranked_hands):\n",
    "    winnings += hands[hand] * (i + 1)\n",
    "winnings"
   ]
  }
 ],
 "metadata": {
  "kernelspec": {
   "display_name": "venv",
   "language": "python",
   "name": "python3"
  },
  "language_info": {
   "codemirror_mode": {
    "name": "ipython",
    "version": 3
   },
   "file_extension": ".py",
   "mimetype": "text/x-python",
   "name": "python",
   "nbconvert_exporter": "python",
   "pygments_lexer": "ipython3",
   "version": "3.10.12"
  }
 },
 "nbformat": 4,
 "nbformat_minor": 2
}
