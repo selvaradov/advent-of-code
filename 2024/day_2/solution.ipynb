{
 "cells": [
  {
   "cell_type": "markdown",
   "metadata": {},
   "source": [
    "## Part 1"
   ]
  },
  {
   "cell_type": "code",
   "execution_count": 2,
   "metadata": {},
   "outputs": [],
   "source": [
    "with open(\"input.txt\") as f:\n",
    "    lines = [line.strip().split() for line in f.readlines()]\n",
    "    reports = [[int(x) for x in line] for line in lines]"
   ]
  },
  {
   "cell_type": "code",
   "execution_count": 3,
   "metadata": {},
   "outputs": [
    {
     "name": "stdout",
     "output_type": "stream",
     "text": [
      "269\n"
     ]
    }
   ],
   "source": [
    "def is_safe(report: list[int]):\n",
    "    deltas = [report[i + 1] - report[i] for i in range(len(report) - 1)]\n",
    "    return all(0 < x <= 3 for x in deltas) or all(-3 <= x < 0 for x in deltas)\n",
    "\n",
    "print(sum(is_safe(report) for report in reports))"
   ]
  },
  {
   "cell_type": "markdown",
   "metadata": {},
   "source": [
    "## Part 2"
   ]
  },
  {
   "cell_type": "code",
   "execution_count": 4,
   "metadata": {},
   "outputs": [
    {
     "name": "stdout",
     "output_type": "stream",
     "text": [
      "337\n"
     ]
    }
   ],
   "source": [
    "def is_safe_damp(report: list[int]):\n",
    "    if is_safe(report):\n",
    "        return True\n",
    "    else:\n",
    "        return any(is_safe(report[:i] + report[i + 1 :]) for i in range(len(report)))\n",
    "    \n",
    "print(sum(is_safe_damp(report) for report in reports))"
   ]
  }
 ],
 "metadata": {
  "kernelspec": {
   "display_name": "venv",
   "language": "python",
   "name": "python3"
  },
  "language_info": {
   "codemirror_mode": {
    "name": "ipython",
    "version": 3
   },
   "file_extension": ".py",
   "mimetype": "text/x-python",
   "name": "python",
   "nbconvert_exporter": "python",
   "pygments_lexer": "ipython3",
   "version": "3.10.12"
  }
 },
 "nbformat": 4,
 "nbformat_minor": 2
}
