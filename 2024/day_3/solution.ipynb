{
 "cells": [
  {
   "cell_type": "markdown",
   "metadata": {},
   "source": [
    "## Part 1"
   ]
  },
  {
   "cell_type": "code",
   "execution_count": 63,
   "metadata": {},
   "outputs": [],
   "source": [
    "with open(\"input.txt\") as f:\n",
    "    raw = f.read()"
   ]
  },
  {
   "cell_type": "code",
   "execution_count": null,
   "metadata": {},
   "outputs": [
    {
     "data": {
      "text/plain": [
       "183380722"
      ]
     },
     "execution_count": 8,
     "metadata": {},
     "output_type": "execute_result"
    }
   ],
   "source": [
    "import re\n",
    "\n",
    "nums = re.findall(r\"mul\\((\\d+),(\\d+)\\)\", raw)\n",
    "out = sum((int(pair[0]) * int(pair[1])) for pair in nums)\n",
    "print(out)"
   ]
  },
  {
   "cell_type": "markdown",
   "metadata": {},
   "source": [
    "## Part 2"
   ]
  },
  {
   "cell_type": "code",
   "execution_count": 55,
   "metadata": {},
   "outputs": [],
   "source": [
    "raw = \"xmul(2,4)&mul[3,7]!^don't()_mul(5,5)+mul(32,64](mul(11,8)undo()?mul(8,5))\""
   ]
  },
  {
   "cell_type": "code",
   "execution_count": 64,
   "metadata": {},
   "outputs": [],
   "source": [
    "matches = list(re.finditer(r\"mul\\((\\d+),(\\d+)\\)\", raw))\n",
    "dos = [do.start() for do in re.finditer(r\"do\\(\\)\", raw)]\n",
    "donts = [dont.start() for dont in re.finditer(r\"don't\\(\\)\", raw)]\n",
    "\n",
    "statuses = [(pos, True) for pos in dos] + [(pos, False) for pos in donts]\n",
    "statuses.sort()"
   ]
  },
  {
   "cell_type": "code",
   "execution_count": 65,
   "metadata": {},
   "outputs": [
    {
     "name": "stdout",
     "output_type": "stream",
     "text": [
      "82733683\n"
     ]
    }
   ],
   "source": [
    "next_status = 0\n",
    "agg = 0\n",
    "multiplying = True\n",
    "for match in matches:\n",
    "    while next_status < len(statuses) and match.start() > statuses[next_status][0]:\n",
    "        next_status += 1\n",
    "    if next_status == 0 or statuses[next_status - 1][1]:\n",
    "        agg += int(match.group(1)) * int(match.group(2))\n",
    "print(agg)"
   ]
  }
 ],
 "metadata": {
  "kernelspec": {
   "display_name": "venv",
   "language": "python",
   "name": "python3"
  },
  "language_info": {
   "codemirror_mode": {
    "name": "ipython",
    "version": 3
   },
   "file_extension": ".py",
   "mimetype": "text/x-python",
   "name": "python",
   "nbconvert_exporter": "python",
   "pygments_lexer": "ipython3",
   "version": "3.10.12"
  }
 },
 "nbformat": 4,
 "nbformat_minor": 2
}
