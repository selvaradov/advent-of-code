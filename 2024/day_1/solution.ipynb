{
 "cells": [
  {
   "cell_type": "markdown",
   "metadata": {},
   "source": [
    "## Part 1"
   ]
  },
  {
   "cell_type": "code",
   "execution_count": 2,
   "metadata": {},
   "outputs": [],
   "source": [
    "with open(\"input.txt\") as f:\n",
    "    lines = [line.strip().split() for line in f.readlines()]\n",
    "    numbers = [[int(x) for x in line] for line in lines]\n",
    "    l_locs, r_locs = [list(x) for x in zip(*numbers)]\n"
   ]
  },
  {
   "cell_type": "code",
   "execution_count": 3,
   "metadata": {},
   "outputs": [
    {
     "name": "stdout",
     "output_type": "stream",
     "text": [
      "2367773\n"
     ]
    }
   ],
   "source": [
    "l_locs.sort()\n",
    "r_locs.sort()\n",
    "total = 0\n",
    "\n",
    "for l, r in zip(l_locs, r_locs):\n",
    "    total += abs(l - r)\n",
    "\n",
    "print(total)"
   ]
  },
  {
   "cell_type": "markdown",
   "metadata": {},
   "source": [
    "## Part 2"
   ]
  },
  {
   "cell_type": "code",
   "execution_count": 4,
   "metadata": {},
   "outputs": [
    {
     "name": "stdout",
     "output_type": "stream",
     "text": [
      "21271939\n"
     ]
    }
   ],
   "source": [
    "from collections import defaultdict\n",
    "r_counts = defaultdict(int)\n",
    "\n",
    "for r in r_locs:\n",
    "    r_counts[r] += 1\n",
    "\n",
    "print(sum(l * r_counts[l] for l in l_locs))"
   ]
  },
  {
   "cell_type": "code",
   "execution_count": null,
   "metadata": {},
   "outputs": [],
   "source": []
  }
 ],
 "metadata": {
  "kernelspec": {
   "display_name": "venv",
   "language": "python",
   "name": "python3"
  },
  "language_info": {
   "codemirror_mode": {
    "name": "ipython",
    "version": 3
   },
   "file_extension": ".py",
   "mimetype": "text/x-python",
   "name": "python",
   "nbconvert_exporter": "python",
   "pygments_lexer": "ipython3",
   "version": "3.10.12"
  }
 },
 "nbformat": 4,
 "nbformat_minor": 2
}
